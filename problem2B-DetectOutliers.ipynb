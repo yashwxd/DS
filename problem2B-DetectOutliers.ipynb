{
 "cells": [
  {
   "cell_type": "code",
   "execution_count": 6,
   "id": "8d9e37f2",
   "metadata": {},
   "outputs": [],
   "source": [
    "#2-B - Detect Outliers\n",
    "\n",
    "#Detect using BOX PLOT\n",
    "\n",
    "import numpy as np\n",
    "import pandas as pd"
   ]
  },
  {
   "cell_type": "code",
   "execution_count": 2,
   "id": "f2c63688",
   "metadata": {},
   "outputs": [],
   "source": [
    "df=pd.read_csv(r\"C:\\Users\\Yash\\OneDrive\\Desktop\\DSBDA_Lab\\Problem_Statement_2\\demo1.csv\")"
   ]
  },
  {
   "cell_type": "code",
   "execution_count": 3,
   "id": "9084adfb",
   "metadata": {},
   "outputs": [
    {
     "data": {
      "text/html": [
       "<div>\n",
       "<style scoped>\n",
       "    .dataframe tbody tr th:only-of-type {\n",
       "        vertical-align: middle;\n",
       "    }\n",
       "\n",
       "    .dataframe tbody tr th {\n",
       "        vertical-align: top;\n",
       "    }\n",
       "\n",
       "    .dataframe thead th {\n",
       "        text-align: right;\n",
       "    }\n",
       "</style>\n",
       "<table border=\"1\" class=\"dataframe\">\n",
       "  <thead>\n",
       "    <tr style=\"text-align: right;\">\n",
       "      <th></th>\n",
       "      <th>math score</th>\n",
       "      <th>reading score</th>\n",
       "      <th>writing score</th>\n",
       "      <th>placement score</th>\n",
       "      <th>placement offer count</th>\n",
       "      <th>club join year</th>\n",
       "    </tr>\n",
       "  </thead>\n",
       "  <tbody>\n",
       "    <tr>\n",
       "      <th>0</th>\n",
       "      <td>80</td>\n",
       "      <td>68</td>\n",
       "      <td>70</td>\n",
       "      <td>89</td>\n",
       "      <td>3</td>\n",
       "      <td>2019</td>\n",
       "    </tr>\n",
       "    <tr>\n",
       "      <th>1</th>\n",
       "      <td>71</td>\n",
       "      <td>61</td>\n",
       "      <td>85</td>\n",
       "      <td>91</td>\n",
       "      <td>3</td>\n",
       "      <td>2019</td>\n",
       "    </tr>\n",
       "    <tr>\n",
       "      <th>2</th>\n",
       "      <td>79</td>\n",
       "      <td>16</td>\n",
       "      <td>87</td>\n",
       "      <td>77</td>\n",
       "      <td>2</td>\n",
       "      <td>2018</td>\n",
       "    </tr>\n",
       "    <tr>\n",
       "      <th>3</th>\n",
       "      <td>61</td>\n",
       "      <td>77</td>\n",
       "      <td>74</td>\n",
       "      <td>76</td>\n",
       "      <td>2</td>\n",
       "      <td>2020</td>\n",
       "    </tr>\n",
       "    <tr>\n",
       "      <th>4</th>\n",
       "      <td>78</td>\n",
       "      <td>71</td>\n",
       "      <td>67</td>\n",
       "      <td>90</td>\n",
       "      <td>3</td>\n",
       "      <td>2019</td>\n",
       "    </tr>\n",
       "    <tr>\n",
       "      <th>5</th>\n",
       "      <td>73</td>\n",
       "      <td>68</td>\n",
       "      <td>90</td>\n",
       "      <td>80</td>\n",
       "      <td>2</td>\n",
       "      <td>2019</td>\n",
       "    </tr>\n",
       "    <tr>\n",
       "      <th>6</th>\n",
       "      <td>77</td>\n",
       "      <td>62</td>\n",
       "      <td>70</td>\n",
       "      <td>35</td>\n",
       "      <td>2</td>\n",
       "      <td>2020</td>\n",
       "    </tr>\n",
       "    <tr>\n",
       "      <th>7</th>\n",
       "      <td>74</td>\n",
       "      <td>45</td>\n",
       "      <td>80</td>\n",
       "      <td>12</td>\n",
       "      <td>1</td>\n",
       "      <td>2019</td>\n",
       "    </tr>\n",
       "    <tr>\n",
       "      <th>8</th>\n",
       "      <td>76</td>\n",
       "      <td>60</td>\n",
       "      <td>79</td>\n",
       "      <td>77</td>\n",
       "      <td>2</td>\n",
       "      <td>2020</td>\n",
       "    </tr>\n",
       "    <tr>\n",
       "      <th>9</th>\n",
       "      <td>75</td>\n",
       "      <td>65</td>\n",
       "      <td>85</td>\n",
       "      <td>87</td>\n",
       "      <td>3</td>\n",
       "      <td>2018</td>\n",
       "    </tr>\n",
       "    <tr>\n",
       "      <th>10</th>\n",
       "      <td>160</td>\n",
       "      <td>67</td>\n",
       "      <td>12</td>\n",
       "      <td>83</td>\n",
       "      <td>2</td>\n",
       "      <td>2020</td>\n",
       "    </tr>\n",
       "    <tr>\n",
       "      <th>11</th>\n",
       "      <td>79</td>\n",
       "      <td>72</td>\n",
       "      <td>88</td>\n",
       "      <td>180</td>\n",
       "      <td>2</td>\n",
       "      <td>2019</td>\n",
       "    </tr>\n",
       "    <tr>\n",
       "      <th>12</th>\n",
       "      <td>80</td>\n",
       "      <td>80</td>\n",
       "      <td>78</td>\n",
       "      <td>94</td>\n",
       "      <td>3</td>\n",
       "      <td>2021</td>\n",
       "    </tr>\n",
       "    <tr>\n",
       "      <th>13</th>\n",
       "      <td>78</td>\n",
       "      <td>69</td>\n",
       "      <td>71</td>\n",
       "      <td>90</td>\n",
       "      <td>3</td>\n",
       "      <td>2019</td>\n",
       "    </tr>\n",
       "    <tr>\n",
       "      <th>14</th>\n",
       "      <td>75</td>\n",
       "      <td>1</td>\n",
       "      <td>71</td>\n",
       "      <td>81</td>\n",
       "      <td>2</td>\n",
       "      <td>2019</td>\n",
       "    </tr>\n",
       "    <tr>\n",
       "      <th>15</th>\n",
       "      <td>78</td>\n",
       "      <td>62</td>\n",
       "      <td>79</td>\n",
       "      <td>93</td>\n",
       "      <td>3</td>\n",
       "      <td>2021</td>\n",
       "    </tr>\n",
       "    <tr>\n",
       "      <th>16</th>\n",
       "      <td>86</td>\n",
       "      <td>78</td>\n",
       "      <td>80</td>\n",
       "      <td>88</td>\n",
       "      <td>3</td>\n",
       "      <td>2019</td>\n",
       "    </tr>\n",
       "    <tr>\n",
       "      <th>17</th>\n",
       "      <td>80</td>\n",
       "      <td>74</td>\n",
       "      <td>23</td>\n",
       "      <td>76</td>\n",
       "      <td>2</td>\n",
       "      <td>2021</td>\n",
       "    </tr>\n",
       "    <tr>\n",
       "      <th>18</th>\n",
       "      <td>75</td>\n",
       "      <td>62</td>\n",
       "      <td>86</td>\n",
       "      <td>87</td>\n",
       "      <td>3</td>\n",
       "      <td>2019</td>\n",
       "    </tr>\n",
       "    <tr>\n",
       "      <th>19</th>\n",
       "      <td>82</td>\n",
       "      <td>70</td>\n",
       "      <td>87</td>\n",
       "      <td>94</td>\n",
       "      <td>3</td>\n",
       "      <td>2019</td>\n",
       "    </tr>\n",
       "    <tr>\n",
       "      <th>20</th>\n",
       "      <td>69</td>\n",
       "      <td>65</td>\n",
       "      <td>84</td>\n",
       "      <td>35</td>\n",
       "      <td>1</td>\n",
       "      <td>2018</td>\n",
       "    </tr>\n",
       "    <tr>\n",
       "      <th>21</th>\n",
       "      <td>100</td>\n",
       "      <td>77</td>\n",
       "      <td>70</td>\n",
       "      <td>91</td>\n",
       "      <td>3</td>\n",
       "      <td>2018</td>\n",
       "    </tr>\n",
       "    <tr>\n",
       "      <th>22</th>\n",
       "      <td>72</td>\n",
       "      <td>60</td>\n",
       "      <td>78</td>\n",
       "      <td>94</td>\n",
       "      <td>3</td>\n",
       "      <td>2019</td>\n",
       "    </tr>\n",
       "    <tr>\n",
       "      <th>23</th>\n",
       "      <td>74</td>\n",
       "      <td>65</td>\n",
       "      <td>71</td>\n",
       "      <td>84</td>\n",
       "      <td>2</td>\n",
       "      <td>2019</td>\n",
       "    </tr>\n",
       "    <tr>\n",
       "      <th>24</th>\n",
       "      <td>75</td>\n",
       "      <td>77</td>\n",
       "      <td>83</td>\n",
       "      <td>77</td>\n",
       "      <td>2</td>\n",
       "      <td>2020</td>\n",
       "    </tr>\n",
       "    <tr>\n",
       "      <th>25</th>\n",
       "      <td>180</td>\n",
       "      <td>67</td>\n",
       "      <td>63</td>\n",
       "      <td>75</td>\n",
       "      <td>3</td>\n",
       "      <td>2021</td>\n",
       "    </tr>\n",
       "    <tr>\n",
       "      <th>26</th>\n",
       "      <td>72</td>\n",
       "      <td>120</td>\n",
       "      <td>70</td>\n",
       "      <td>84</td>\n",
       "      <td>2</td>\n",
       "      <td>2021</td>\n",
       "    </tr>\n",
       "    <tr>\n",
       "      <th>27</th>\n",
       "      <td>71</td>\n",
       "      <td>79</td>\n",
       "      <td>88</td>\n",
       "      <td>85</td>\n",
       "      <td>3</td>\n",
       "      <td>2021</td>\n",
       "    </tr>\n",
       "    <tr>\n",
       "      <th>28</th>\n",
       "      <td>120</td>\n",
       "      <td>73</td>\n",
       "      <td>71</td>\n",
       "      <td>94</td>\n",
       "      <td>3</td>\n",
       "      <td>2019</td>\n",
       "    </tr>\n",
       "  </tbody>\n",
       "</table>\n",
       "</div>"
      ],
      "text/plain": [
       "    math score  reading score  writing score  placement score  \\\n",
       "0           80             68             70               89   \n",
       "1           71             61             85               91   \n",
       "2           79             16             87               77   \n",
       "3           61             77             74               76   \n",
       "4           78             71             67               90   \n",
       "5           73             68             90               80   \n",
       "6           77             62             70               35   \n",
       "7           74             45             80               12   \n",
       "8           76             60             79               77   \n",
       "9           75             65             85               87   \n",
       "10         160             67             12               83   \n",
       "11          79             72             88              180   \n",
       "12          80             80             78               94   \n",
       "13          78             69             71               90   \n",
       "14          75              1             71               81   \n",
       "15          78             62             79               93   \n",
       "16          86             78             80               88   \n",
       "17          80             74             23               76   \n",
       "18          75             62             86               87   \n",
       "19          82             70             87               94   \n",
       "20          69             65             84               35   \n",
       "21         100             77             70               91   \n",
       "22          72             60             78               94   \n",
       "23          74             65             71               84   \n",
       "24          75             77             83               77   \n",
       "25         180             67             63               75   \n",
       "26          72            120             70               84   \n",
       "27          71             79             88               85   \n",
       "28         120             73             71               94   \n",
       "\n",
       "    placement offer count  club join year  \n",
       "0                       3            2019  \n",
       "1                       3            2019  \n",
       "2                       2            2018  \n",
       "3                       2            2020  \n",
       "4                       3            2019  \n",
       "5                       2            2019  \n",
       "6                       2            2020  \n",
       "7                       1            2019  \n",
       "8                       2            2020  \n",
       "9                       3            2018  \n",
       "10                      2            2020  \n",
       "11                      2            2019  \n",
       "12                      3            2021  \n",
       "13                      3            2019  \n",
       "14                      2            2019  \n",
       "15                      3            2021  \n",
       "16                      3            2019  \n",
       "17                      2            2021  \n",
       "18                      3            2019  \n",
       "19                      3            2019  \n",
       "20                      1            2018  \n",
       "21                      3            2018  \n",
       "22                      3            2019  \n",
       "23                      2            2019  \n",
       "24                      2            2020  \n",
       "25                      3            2021  \n",
       "26                      2            2021  \n",
       "27                      3            2021  \n",
       "28                      3            2019  "
      ]
     },
     "execution_count": 3,
     "metadata": {},
     "output_type": "execute_result"
    }
   ],
   "source": [
    "df"
   ]
  },
  {
   "cell_type": "code",
   "execution_count": 7,
   "id": "3bc1e044",
   "metadata": {},
   "outputs": [],
   "source": [
    "col = ['math score', 'reading score' , 'writing score','placement score']"
   ]
  },
  {
   "cell_type": "code",
   "execution_count": 8,
   "id": "e2f1440f",
   "metadata": {},
   "outputs": [
    {
     "data": {
      "text/plain": [
       "<Axes: >"
      ]
     },
     "execution_count": 8,
     "metadata": {},
     "output_type": "execute_result"
    },
    {
     "data": {
      "image/png": "[encoded data removed]",
      "text/plain": [
       "<Figure size 640x480 with 1 Axes>"
      ]
     },
     "metadata": {},
     "output_type": "display_data"
    }
   ],
   "source": [
    "df.boxplot(col)"
   ]
  },
  {
   "cell_type": "code",
   "execution_count": 9,
   "id": "db12868a",
   "metadata": {},
   "outputs": [
    {
     "name": "stdout",
     "output_type": "stream",
     "text": [
      "(array([10, 21, 25, 28], dtype=int64),)\n"
     ]
    }
   ],
   "source": [
    "print(np.where(df['math score']>90))"
   ]
  },
  {
   "cell_type": "code",
   "execution_count": 10,
   "id": "4db8a0eb",
   "metadata": {},
   "outputs": [
    {
     "name": "stdout",
     "output_type": "stream",
     "text": [
      "(array([ 2, 14], dtype=int64),)\n"
     ]
    }
   ],
   "source": [
    "print(np.where(df['reading score']<25))"
   ]
  },
  {
   "cell_type": "code",
   "execution_count": 11,
   "id": "61b4eb67",
   "metadata": {},
   "outputs": [
    {
     "name": "stdout",
     "output_type": "stream",
     "text": [
      "(array([10, 17], dtype=int64),)\n"
     ]
    }
   ],
   "source": [
    "print(np.where(df['writing score']<30))"
   ]
  },
  {
   "cell_type": "code",
   "execution_count": null,
   "id": "229ddcb7",
   "metadata": {},
   "outputs": [],
   "source": []
  },
  {
   "cell_type": "code",
   "execution_count": 12,
   "id": "f7811979",
   "metadata": {},
   "outputs": [],
   "source": [
    "#Detect using Z-SCORE\n",
    "import numpy as np\n",
    "from scipy import stats"
   ]
  },
  {
   "cell_type": "code",
   "execution_count": 15,
   "id": "d591e755",
   "metadata": {},
   "outputs": [],
   "source": [
    "df1=pd.read_csv(r\"C:\\Users\\Yash\\OneDrive\\Desktop\\DSBDA_Lab\\Problem_Statement_2\\demo1.csv\")"
   ]
  },
  {
   "cell_type": "code",
   "execution_count": 16,
   "id": "e8f6c355",
   "metadata": {},
   "outputs": [],
   "source": [
    "z = np.abs(stats.zscore(df1['math score']))"
   ]
  },
  {
   "cell_type": "code",
   "execution_count": 17,
   "id": "62926b49",
   "metadata": {},
   "outputs": [
    {
     "name": "stdout",
     "output_type": "stream",
     "text": [
      "0     0.175646\n",
      "1     0.528288\n",
      "2     0.214828\n",
      "3     0.920112\n",
      "4     0.254010\n",
      "5     0.449923\n",
      "6     0.293193\n",
      "7     0.410740\n",
      "8     0.332375\n",
      "9     0.371558\n",
      "10    2.958952\n",
      "11    0.214828\n",
      "12    0.175646\n",
      "13    0.254010\n",
      "14    0.371558\n",
      "15    0.254010\n",
      "16    0.059449\n",
      "17    0.175646\n",
      "18    0.371558\n",
      "19    0.097281\n",
      "20    0.606653\n",
      "21    0.608004\n",
      "22    0.489105\n",
      "23    0.410740\n",
      "24    0.371558\n",
      "25    3.742601\n",
      "26    0.489105\n",
      "27    0.528288\n",
      "28    1.391653\n",
      "Name: math score, dtype: float64\n"
     ]
    }
   ],
   "source": [
    "print(z)"
   ]
  },
  {
   "cell_type": "code",
   "execution_count": 18,
   "id": "18cc0b64",
   "metadata": {},
   "outputs": [],
   "source": [
    "threshold = 0.18"
   ]
  },
  {
   "cell_type": "code",
   "execution_count": 19,
   "id": "803c68cb",
   "metadata": {},
   "outputs": [
    {
     "data": {
      "text/plain": [
       "(array([ 0, 12, 16, 17, 19], dtype=int64),)"
      ]
     },
     "execution_count": 19,
     "metadata": {},
     "output_type": "execute_result"
    }
   ],
   "source": [
    "sample_outliers = np.where(z <threshold)\n",
    "sample_outliers"
   ]
  },
  {
   "cell_type": "code",
   "execution_count": null,
   "id": "783b74af",
   "metadata": {},
   "outputs": [],
   "source": []
  },
  {
   "cell_type": "code",
   "execution_count": 20,
   "id": "bef8a8a2",
   "metadata": {},
   "outputs": [],
   "source": [
    "#Detect using IQR"
   ]
  },
  {
   "cell_type": "code",
   "execution_count": 21,
   "id": "7a42f6ca",
   "metadata": {},
   "outputs": [],
   "source": [
    "df2=pd.read_csv(r\"C:\\Users\\Yash\\OneDrive\\Desktop\\DSBDA_Lab\\Problem_Statement_2\\demo1.csv\")"
   ]
  },
  {
   "cell_type": "code",
   "execution_count": 22,
   "id": "596caeb0",
   "metadata": {},
   "outputs": [],
   "source": [
    "sorted_rscore= sorted(df2['reading score'])"
   ]
  },
  {
   "cell_type": "code",
   "execution_count": 23,
   "id": "e00cf0dc",
   "metadata": {},
   "outputs": [
    {
     "data": {
      "text/plain": [
       "[1,\n",
       " 16,\n",
       " 45,\n",
       " 60,\n",
       " 60,\n",
       " 61,\n",
       " 62,\n",
       " 62,\n",
       " 62,\n",
       " 65,\n",
       " 65,\n",
       " 65,\n",
       " 67,\n",
       " 67,\n",
       " 68,\n",
       " 68,\n",
       " 69,\n",
       " 70,\n",
       " 71,\n",
       " 72,\n",
       " 73,\n",
       " 74,\n",
       " 77,\n",
       " 77,\n",
       " 77,\n",
       " 78,\n",
       " 79,\n",
       " 80,\n",
       " 120]"
      ]
     },
     "execution_count": 23,
     "metadata": {},
     "output_type": "execute_result"
    }
   ],
   "source": [
    "sorted_rscore"
   ]
  },
  {
   "cell_type": "code",
   "execution_count": 24,
   "id": "83ae26a9",
   "metadata": {},
   "outputs": [
    {
     "name": "stdout",
     "output_type": "stream",
     "text": [
      "62.0 74.0\n"
     ]
    }
   ],
   "source": [
    "q1 = np.percentile(sorted_rscore, 25)\n",
    "q3 = np.percentile(sorted_rscore, 75)\n",
    "print(q1,q3)"
   ]
  },
  {
   "cell_type": "code",
   "execution_count": 25,
   "id": "1cd060e1",
   "metadata": {},
   "outputs": [],
   "source": [
    "IQR = q3-q1"
   ]
  },
  {
   "cell_type": "code",
   "execution_count": 26,
   "id": "12c1040e",
   "metadata": {},
   "outputs": [
    {
     "name": "stdout",
     "output_type": "stream",
     "text": [
      "44.0 92.0\n"
     ]
    }
   ],
   "source": [
    "lwr_bound = q1-(1.5*IQR)\n",
    "upr_bound = q3+(1.5*IQR)\n",
    "print(lwr_bound, upr_bound)"
   ]
  },
  {
   "cell_type": "code",
   "execution_count": 28,
   "id": "e312669f",
   "metadata": {},
   "outputs": [
    {
     "name": "stdout",
     "output_type": "stream",
     "text": [
      "[1, 16, 120]\n"
     ]
    }
   ],
   "source": [
    "r_outliers = []\n",
    "for i in sorted_rscore:\n",
    "    if (i<lwr_bound or i>upr_bound):\n",
    "        r_outliers.append(i)\n",
    "        \n",
    "print(r_outliers)\n",
    "\n",
    "        "
   ]
  },
  {
   "cell_type": "code",
   "execution_count": 29,
   "id": "c61997af",
   "metadata": {},
   "outputs": [],
   "source": [
    "#END"
   ]
  },
  {
   "cell_type": "code",
   "execution_count": null,
   "id": "a96a9ed5",
   "metadata": {},
   "outputs": [],
   "source": []
  }
 ],
 "metadata": {
  "kernelspec": {
   "display_name": "Python 3 (ipykernel)",
   "language": "python",
   "name": "python3"
  },
  "language_info": {
   "codemirror_mode": {
    "name": "ipython",
    "version": 3
   },
   "file_extension": ".py",
   "mimetype": "text/x-python",
   "name": "python",
   "nbconvert_exporter": "python",
   "pygments_lexer": "ipython3",
   "version": "3.10.9"
  }
 },
 "nbformat": 4,
 "nbformat_minor": 5
}
